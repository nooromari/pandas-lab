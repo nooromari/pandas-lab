{
 "metadata": {
  "language_info": {
   "codemirror_mode": {
    "name": "ipython",
    "version": 3
   },
   "file_extension": ".py",
   "mimetype": "text/x-python",
   "name": "python",
   "nbconvert_exporter": "python",
   "pygments_lexer": "ipython3",
   "version": "3.9.5"
  },
  "orig_nbformat": 2,
  "kernelspec": {
   "name": "pythonjvsc74a57bd0ca21017bad8841cd4bb837c682c854fa9a8b95d1747e4b0cfb17b29c0e446605",
   "display_name": "Python 3.9.4  ('.venv': venv)"
  },
  "metadata": {
   "interpreter": {
    "hash": "ca21017bad8841cd4bb837c682c854fa9a8b95d1747e4b0cfb17b29c0e446605"
   }
  }
 },
 "nbformat": 4,
 "nbformat_minor": 2,
 "cells": [
  {
   "source": [
    "# Data Analysis with Pandas\n",
    "- Data set : Video Game Sales \n",
    "- Author : Noor Omari\n"
   ],
   "cell_type": "markdown",
   "metadata": {}
  },
  {
   "cell_type": "code",
   "execution_count": null,
   "metadata": {},
   "outputs": [],
   "source": [
    "import pandas as pd\n",
    "\n"
   ]
  },
  {
   "cell_type": "code",
   "execution_count": 13,
   "metadata": {},
   "outputs": [
    {
     "output_type": "execute_result",
     "data": {
      "text/plain": [
       "   Rank                       Name Platform    Year         Genre Publisher  \\\n",
       "0     1                 Wii Sports      Wii  2006.0        Sports  Nintendo   \n",
       "1     2          Super Mario Bros.      NES  1985.0      Platform  Nintendo   \n",
       "2     3             Mario Kart Wii      Wii  2008.0        Racing  Nintendo   \n",
       "3     4          Wii Sports Resort      Wii  2009.0        Sports  Nintendo   \n",
       "4     5   Pokemon Red/Pokemon Blue       GB  1996.0  Role-Playing  Nintendo   \n",
       "5     6                     Tetris       GB  1989.0        Puzzle  Nintendo   \n",
       "6     7      New Super Mario Bros.       DS  2006.0      Platform  Nintendo   \n",
       "7     8                   Wii Play      Wii  2006.0          Misc  Nintendo   \n",
       "8     9  New Super Mario Bros. Wii      Wii  2009.0      Platform  Nintendo   \n",
       "9    10                  Duck Hunt      NES  1984.0       Shooter  Nintendo   \n",
       "\n",
       "   NA_Sales  EU_Sales  JP_Sales  Other_Sales  Global_Sales  \n",
       "0     41.49     29.02      3.77         8.46         82.74  \n",
       "1     29.08      3.58      6.81         0.77         40.24  \n",
       "2     15.85     12.88      3.79         3.31         35.82  \n",
       "3     15.75     11.01      3.28         2.96         33.00  \n",
       "4     11.27      8.89     10.22         1.00         31.37  \n",
       "5     23.20      2.26      4.22         0.58         30.26  \n",
       "6     11.38      9.23      6.50         2.90         30.01  \n",
       "7     14.03      9.20      2.93         2.85         29.02  \n",
       "8     14.59      7.06      4.70         2.26         28.62  \n",
       "9     26.93      0.63      0.28         0.47         28.31  "
      ],
      "text/html": "<div>\n<style scoped>\n    .dataframe tbody tr th:only-of-type {\n        vertical-align: middle;\n    }\n\n    .dataframe tbody tr th {\n        vertical-align: top;\n    }\n\n    .dataframe thead th {\n        text-align: right;\n    }\n</style>\n<table border=\"1\" class=\"dataframe\">\n  <thead>\n    <tr style=\"text-align: right;\">\n      <th></th>\n      <th>Rank</th>\n      <th>Name</th>\n      <th>Platform</th>\n      <th>Year</th>\n      <th>Genre</th>\n      <th>Publisher</th>\n      <th>NA_Sales</th>\n      <th>EU_Sales</th>\n      <th>JP_Sales</th>\n      <th>Other_Sales</th>\n      <th>Global_Sales</th>\n    </tr>\n  </thead>\n  <tbody>\n    <tr>\n      <th>0</th>\n      <td>1</td>\n      <td>Wii Sports</td>\n      <td>Wii</td>\n      <td>2006.0</td>\n      <td>Sports</td>\n      <td>Nintendo</td>\n      <td>41.49</td>\n      <td>29.02</td>\n      <td>3.77</td>\n      <td>8.46</td>\n      <td>82.74</td>\n    </tr>\n    <tr>\n      <th>1</th>\n      <td>2</td>\n      <td>Super Mario Bros.</td>\n      <td>NES</td>\n      <td>1985.0</td>\n      <td>Platform</td>\n      <td>Nintendo</td>\n      <td>29.08</td>\n      <td>3.58</td>\n      <td>6.81</td>\n      <td>0.77</td>\n      <td>40.24</td>\n    </tr>\n    <tr>\n      <th>2</th>\n      <td>3</td>\n      <td>Mario Kart Wii</td>\n      <td>Wii</td>\n      <td>2008.0</td>\n      <td>Racing</td>\n      <td>Nintendo</td>\n      <td>15.85</td>\n      <td>12.88</td>\n      <td>3.79</td>\n      <td>3.31</td>\n      <td>35.82</td>\n    </tr>\n    <tr>\n      <th>3</th>\n      <td>4</td>\n      <td>Wii Sports Resort</td>\n      <td>Wii</td>\n      <td>2009.0</td>\n      <td>Sports</td>\n      <td>Nintendo</td>\n      <td>15.75</td>\n      <td>11.01</td>\n      <td>3.28</td>\n      <td>2.96</td>\n      <td>33.00</td>\n    </tr>\n    <tr>\n      <th>4</th>\n      <td>5</td>\n      <td>Pokemon Red/Pokemon Blue</td>\n      <td>GB</td>\n      <td>1996.0</td>\n      <td>Role-Playing</td>\n      <td>Nintendo</td>\n      <td>11.27</td>\n      <td>8.89</td>\n      <td>10.22</td>\n      <td>1.00</td>\n      <td>31.37</td>\n    </tr>\n    <tr>\n      <th>5</th>\n      <td>6</td>\n      <td>Tetris</td>\n      <td>GB</td>\n      <td>1989.0</td>\n      <td>Puzzle</td>\n      <td>Nintendo</td>\n      <td>23.20</td>\n      <td>2.26</td>\n      <td>4.22</td>\n      <td>0.58</td>\n      <td>30.26</td>\n    </tr>\n    <tr>\n      <th>6</th>\n      <td>7</td>\n      <td>New Super Mario Bros.</td>\n      <td>DS</td>\n      <td>2006.0</td>\n      <td>Platform</td>\n      <td>Nintendo</td>\n      <td>11.38</td>\n      <td>9.23</td>\n      <td>6.50</td>\n      <td>2.90</td>\n      <td>30.01</td>\n    </tr>\n    <tr>\n      <th>7</th>\n      <td>8</td>\n      <td>Wii Play</td>\n      <td>Wii</td>\n      <td>2006.0</td>\n      <td>Misc</td>\n      <td>Nintendo</td>\n      <td>14.03</td>\n      <td>9.20</td>\n      <td>2.93</td>\n      <td>2.85</td>\n      <td>29.02</td>\n    </tr>\n    <tr>\n      <th>8</th>\n      <td>9</td>\n      <td>New Super Mario Bros. Wii</td>\n      <td>Wii</td>\n      <td>2009.0</td>\n      <td>Platform</td>\n      <td>Nintendo</td>\n      <td>14.59</td>\n      <td>7.06</td>\n      <td>4.70</td>\n      <td>2.26</td>\n      <td>28.62</td>\n    </tr>\n    <tr>\n      <th>9</th>\n      <td>10</td>\n      <td>Duck Hunt</td>\n      <td>NES</td>\n      <td>1984.0</td>\n      <td>Shooter</td>\n      <td>Nintendo</td>\n      <td>26.93</td>\n      <td>0.63</td>\n      <td>0.28</td>\n      <td>0.47</td>\n      <td>28.31</td>\n    </tr>\n  </tbody>\n</table>\n</div>"
     },
     "metadata": {},
     "execution_count": 13
    }
   ],
   "source": [
    "df = pd.read_csv('./vgsales.csv')\n",
    "df.head(10)"
   ]
  },
  {
   "source": [
    "## 1. Which company is the most common video game publisher?¶\n"
   ],
   "cell_type": "markdown",
   "metadata": {}
  },
  {
   "cell_type": "code",
   "execution_count": 14,
   "metadata": {},
   "outputs": [
    {
     "output_type": "execute_result",
     "data": {
      "text/plain": [
       "'Electronic Arts'"
      ]
     },
     "metadata": {},
     "execution_count": 14
    }
   ],
   "source": [
    "most_common_video_game_publisher = df[\"Publisher\"].value_counts().idxmax()\n",
    "most_common_video_game_publisher\n"
   ]
  },
  {
   "source": [
    "## 2. What’s the most common platform?"
   ],
   "cell_type": "markdown",
   "metadata": {}
  },
  {
   "cell_type": "code",
   "execution_count": 15,
   "metadata": {},
   "outputs": [
    {
     "output_type": "execute_result",
     "data": {
      "text/plain": [
       "'DS'"
      ]
     },
     "metadata": {},
     "execution_count": 15
    }
   ],
   "source": [
    "most_common_platform = df[\"Platform\"].value_counts().idxmax()\n",
    "most_common_platform\n"
   ]
  },
  {
   "source": [
    "## 3. What about the most common genre?\n"
   ],
   "cell_type": "markdown",
   "metadata": {}
  },
  {
   "cell_type": "code",
   "execution_count": 16,
   "metadata": {},
   "outputs": [
    {
     "output_type": "execute_result",
     "data": {
      "text/plain": [
       "'Action'"
      ]
     },
     "metadata": {},
     "execution_count": 16
    }
   ],
   "source": [
    "most_common_genre = df[\"Genre\"].value_counts().idxmax()\n",
    "most_common_genre"
   ]
  },
  {
   "source": [
    "## 4. What are the top 20 highest grossing games?\n"
   ],
   "cell_type": "markdown",
   "metadata": {}
  },
  {
   "cell_type": "code",
   "execution_count": 17,
   "metadata": {},
   "outputs": [
    {
     "output_type": "execute_result",
     "data": {
      "text/plain": [
       "    Rank                                          Name Platform    Year  \\\n",
       "0      1                                    Wii Sports      Wii  2006.0   \n",
       "1      2                             Super Mario Bros.      NES  1985.0   \n",
       "2      3                                Mario Kart Wii      Wii  2008.0   \n",
       "3      4                             Wii Sports Resort      Wii  2009.0   \n",
       "4      5                      Pokemon Red/Pokemon Blue       GB  1996.0   \n",
       "5      6                                        Tetris       GB  1989.0   \n",
       "6      7                         New Super Mario Bros.       DS  2006.0   \n",
       "7      8                                      Wii Play      Wii  2006.0   \n",
       "8      9                     New Super Mario Bros. Wii      Wii  2009.0   \n",
       "9     10                                     Duck Hunt      NES  1984.0   \n",
       "10    11                                    Nintendogs       DS  2005.0   \n",
       "11    12                                 Mario Kart DS       DS  2005.0   \n",
       "12    13                   Pokemon Gold/Pokemon Silver       GB  1999.0   \n",
       "13    14                                       Wii Fit      Wii  2007.0   \n",
       "14    15                                  Wii Fit Plus      Wii  2009.0   \n",
       "15    16                            Kinect Adventures!     X360  2010.0   \n",
       "16    17                            Grand Theft Auto V      PS3  2013.0   \n",
       "17    18                 Grand Theft Auto: San Andreas      PS2  2004.0   \n",
       "18    19                             Super Mario World     SNES  1990.0   \n",
       "19    20  Brain Age: Train Your Brain in Minutes a Day       DS  2005.0   \n",
       "\n",
       "           Genre               Publisher  NA_Sales  EU_Sales  JP_Sales  \\\n",
       "0         Sports                Nintendo     41.49     29.02      3.77   \n",
       "1       Platform                Nintendo     29.08      3.58      6.81   \n",
       "2         Racing                Nintendo     15.85     12.88      3.79   \n",
       "3         Sports                Nintendo     15.75     11.01      3.28   \n",
       "4   Role-Playing                Nintendo     11.27      8.89     10.22   \n",
       "5         Puzzle                Nintendo     23.20      2.26      4.22   \n",
       "6       Platform                Nintendo     11.38      9.23      6.50   \n",
       "7           Misc                Nintendo     14.03      9.20      2.93   \n",
       "8       Platform                Nintendo     14.59      7.06      4.70   \n",
       "9        Shooter                Nintendo     26.93      0.63      0.28   \n",
       "10    Simulation                Nintendo      9.07     11.00      1.93   \n",
       "11        Racing                Nintendo      9.81      7.57      4.13   \n",
       "12  Role-Playing                Nintendo      9.00      6.18      7.20   \n",
       "13        Sports                Nintendo      8.94      8.03      3.60   \n",
       "14        Sports                Nintendo      9.09      8.59      2.53   \n",
       "15          Misc  Microsoft Game Studios     14.97      4.94      0.24   \n",
       "16        Action    Take-Two Interactive      7.01      9.27      0.97   \n",
       "17        Action    Take-Two Interactive      9.43      0.40      0.41   \n",
       "18      Platform                Nintendo     12.78      3.75      3.54   \n",
       "19          Misc                Nintendo      4.75      9.26      4.16   \n",
       "\n",
       "    Other_Sales  Global_Sales  \n",
       "0          8.46         82.74  \n",
       "1          0.77         40.24  \n",
       "2          3.31         35.82  \n",
       "3          2.96         33.00  \n",
       "4          1.00         31.37  \n",
       "5          0.58         30.26  \n",
       "6          2.90         30.01  \n",
       "7          2.85         29.02  \n",
       "8          2.26         28.62  \n",
       "9          0.47         28.31  \n",
       "10         2.75         24.76  \n",
       "11         1.92         23.42  \n",
       "12         0.71         23.10  \n",
       "13         2.15         22.72  \n",
       "14         1.79         22.00  \n",
       "15         1.67         21.82  \n",
       "16         4.14         21.40  \n",
       "17        10.57         20.81  \n",
       "18         0.55         20.61  \n",
       "19         2.05         20.22  "
      ],
      "text/html": "<div>\n<style scoped>\n    .dataframe tbody tr th:only-of-type {\n        vertical-align: middle;\n    }\n\n    .dataframe tbody tr th {\n        vertical-align: top;\n    }\n\n    .dataframe thead th {\n        text-align: right;\n    }\n</style>\n<table border=\"1\" class=\"dataframe\">\n  <thead>\n    <tr style=\"text-align: right;\">\n      <th></th>\n      <th>Rank</th>\n      <th>Name</th>\n      <th>Platform</th>\n      <th>Year</th>\n      <th>Genre</th>\n      <th>Publisher</th>\n      <th>NA_Sales</th>\n      <th>EU_Sales</th>\n      <th>JP_Sales</th>\n      <th>Other_Sales</th>\n      <th>Global_Sales</th>\n    </tr>\n  </thead>\n  <tbody>\n    <tr>\n      <th>0</th>\n      <td>1</td>\n      <td>Wii Sports</td>\n      <td>Wii</td>\n      <td>2006.0</td>\n      <td>Sports</td>\n      <td>Nintendo</td>\n      <td>41.49</td>\n      <td>29.02</td>\n      <td>3.77</td>\n      <td>8.46</td>\n      <td>82.74</td>\n    </tr>\n    <tr>\n      <th>1</th>\n      <td>2</td>\n      <td>Super Mario Bros.</td>\n      <td>NES</td>\n      <td>1985.0</td>\n      <td>Platform</td>\n      <td>Nintendo</td>\n      <td>29.08</td>\n      <td>3.58</td>\n      <td>6.81</td>\n      <td>0.77</td>\n      <td>40.24</td>\n    </tr>\n    <tr>\n      <th>2</th>\n      <td>3</td>\n      <td>Mario Kart Wii</td>\n      <td>Wii</td>\n      <td>2008.0</td>\n      <td>Racing</td>\n      <td>Nintendo</td>\n      <td>15.85</td>\n      <td>12.88</td>\n      <td>3.79</td>\n      <td>3.31</td>\n      <td>35.82</td>\n    </tr>\n    <tr>\n      <th>3</th>\n      <td>4</td>\n      <td>Wii Sports Resort</td>\n      <td>Wii</td>\n      <td>2009.0</td>\n      <td>Sports</td>\n      <td>Nintendo</td>\n      <td>15.75</td>\n      <td>11.01</td>\n      <td>3.28</td>\n      <td>2.96</td>\n      <td>33.00</td>\n    </tr>\n    <tr>\n      <th>4</th>\n      <td>5</td>\n      <td>Pokemon Red/Pokemon Blue</td>\n      <td>GB</td>\n      <td>1996.0</td>\n      <td>Role-Playing</td>\n      <td>Nintendo</td>\n      <td>11.27</td>\n      <td>8.89</td>\n      <td>10.22</td>\n      <td>1.00</td>\n      <td>31.37</td>\n    </tr>\n    <tr>\n      <th>5</th>\n      <td>6</td>\n      <td>Tetris</td>\n      <td>GB</td>\n      <td>1989.0</td>\n      <td>Puzzle</td>\n      <td>Nintendo</td>\n      <td>23.20</td>\n      <td>2.26</td>\n      <td>4.22</td>\n      <td>0.58</td>\n      <td>30.26</td>\n    </tr>\n    <tr>\n      <th>6</th>\n      <td>7</td>\n      <td>New Super Mario Bros.</td>\n      <td>DS</td>\n      <td>2006.0</td>\n      <td>Platform</td>\n      <td>Nintendo</td>\n      <td>11.38</td>\n      <td>9.23</td>\n      <td>6.50</td>\n      <td>2.90</td>\n      <td>30.01</td>\n    </tr>\n    <tr>\n      <th>7</th>\n      <td>8</td>\n      <td>Wii Play</td>\n      <td>Wii</td>\n      <td>2006.0</td>\n      <td>Misc</td>\n      <td>Nintendo</td>\n      <td>14.03</td>\n      <td>9.20</td>\n      <td>2.93</td>\n      <td>2.85</td>\n      <td>29.02</td>\n    </tr>\n    <tr>\n      <th>8</th>\n      <td>9</td>\n      <td>New Super Mario Bros. Wii</td>\n      <td>Wii</td>\n      <td>2009.0</td>\n      <td>Platform</td>\n      <td>Nintendo</td>\n      <td>14.59</td>\n      <td>7.06</td>\n      <td>4.70</td>\n      <td>2.26</td>\n      <td>28.62</td>\n    </tr>\n    <tr>\n      <th>9</th>\n      <td>10</td>\n      <td>Duck Hunt</td>\n      <td>NES</td>\n      <td>1984.0</td>\n      <td>Shooter</td>\n      <td>Nintendo</td>\n      <td>26.93</td>\n      <td>0.63</td>\n      <td>0.28</td>\n      <td>0.47</td>\n      <td>28.31</td>\n    </tr>\n    <tr>\n      <th>10</th>\n      <td>11</td>\n      <td>Nintendogs</td>\n      <td>DS</td>\n      <td>2005.0</td>\n      <td>Simulation</td>\n      <td>Nintendo</td>\n      <td>9.07</td>\n      <td>11.00</td>\n      <td>1.93</td>\n      <td>2.75</td>\n      <td>24.76</td>\n    </tr>\n    <tr>\n      <th>11</th>\n      <td>12</td>\n      <td>Mario Kart DS</td>\n      <td>DS</td>\n      <td>2005.0</td>\n      <td>Racing</td>\n      <td>Nintendo</td>\n      <td>9.81</td>\n      <td>7.57</td>\n      <td>4.13</td>\n      <td>1.92</td>\n      <td>23.42</td>\n    </tr>\n    <tr>\n      <th>12</th>\n      <td>13</td>\n      <td>Pokemon Gold/Pokemon Silver</td>\n      <td>GB</td>\n      <td>1999.0</td>\n      <td>Role-Playing</td>\n      <td>Nintendo</td>\n      <td>9.00</td>\n      <td>6.18</td>\n      <td>7.20</td>\n      <td>0.71</td>\n      <td>23.10</td>\n    </tr>\n    <tr>\n      <th>13</th>\n      <td>14</td>\n      <td>Wii Fit</td>\n      <td>Wii</td>\n      <td>2007.0</td>\n      <td>Sports</td>\n      <td>Nintendo</td>\n      <td>8.94</td>\n      <td>8.03</td>\n      <td>3.60</td>\n      <td>2.15</td>\n      <td>22.72</td>\n    </tr>\n    <tr>\n      <th>14</th>\n      <td>15</td>\n      <td>Wii Fit Plus</td>\n      <td>Wii</td>\n      <td>2009.0</td>\n      <td>Sports</td>\n      <td>Nintendo</td>\n      <td>9.09</td>\n      <td>8.59</td>\n      <td>2.53</td>\n      <td>1.79</td>\n      <td>22.00</td>\n    </tr>\n    <tr>\n      <th>15</th>\n      <td>16</td>\n      <td>Kinect Adventures!</td>\n      <td>X360</td>\n      <td>2010.0</td>\n      <td>Misc</td>\n      <td>Microsoft Game Studios</td>\n      <td>14.97</td>\n      <td>4.94</td>\n      <td>0.24</td>\n      <td>1.67</td>\n      <td>21.82</td>\n    </tr>\n    <tr>\n      <th>16</th>\n      <td>17</td>\n      <td>Grand Theft Auto V</td>\n      <td>PS3</td>\n      <td>2013.0</td>\n      <td>Action</td>\n      <td>Take-Two Interactive</td>\n      <td>7.01</td>\n      <td>9.27</td>\n      <td>0.97</td>\n      <td>4.14</td>\n      <td>21.40</td>\n    </tr>\n    <tr>\n      <th>17</th>\n      <td>18</td>\n      <td>Grand Theft Auto: San Andreas</td>\n      <td>PS2</td>\n      <td>2004.0</td>\n      <td>Action</td>\n      <td>Take-Two Interactive</td>\n      <td>9.43</td>\n      <td>0.40</td>\n      <td>0.41</td>\n      <td>10.57</td>\n      <td>20.81</td>\n    </tr>\n    <tr>\n      <th>18</th>\n      <td>19</td>\n      <td>Super Mario World</td>\n      <td>SNES</td>\n      <td>1990.0</td>\n      <td>Platform</td>\n      <td>Nintendo</td>\n      <td>12.78</td>\n      <td>3.75</td>\n      <td>3.54</td>\n      <td>0.55</td>\n      <td>20.61</td>\n    </tr>\n    <tr>\n      <th>19</th>\n      <td>20</td>\n      <td>Brain Age: Train Your Brain in Minutes a Day</td>\n      <td>DS</td>\n      <td>2005.0</td>\n      <td>Misc</td>\n      <td>Nintendo</td>\n      <td>4.75</td>\n      <td>9.26</td>\n      <td>4.16</td>\n      <td>2.05</td>\n      <td>20.22</td>\n    </tr>\n  </tbody>\n</table>\n</div>"
     },
     "metadata": {},
     "execution_count": 17
    }
   ],
   "source": [
    "df_highest=df.copy()\n",
    "highest_grossing_games=df_highest.sort_values('Rank').head(20)\n",
    "highest_grossing_games"
   ]
  },
  {
   "source": [
    "## 5. For North American video game sales, what’s the median?\n",
    "Provide a secondary output showing ten games surrounding the median sales output\n"
   ],
   "cell_type": "markdown",
   "metadata": {}
  },
  {
   "cell_type": "code",
   "execution_count": 18,
   "metadata": {},
   "outputs": [
    {
     "output_type": "stream",
     "name": "stdout",
     "text": [
      "median 0.08\n"
     ]
    }
   ],
   "source": [
    "NA_med=df['NA_Sales'].median()\n",
    "print('median',NA_med)\n",
    "median_sales = df[df['NA_Sales']==NA_med].head(10)"
   ]
  },
  {
   "source": [
    "## 6. For the top-selling game of all time, how many standard deviations above/below the mean are its sales for North America?\n"
   ],
   "cell_type": "markdown",
   "metadata": {}
  },
  {
   "cell_type": "code",
   "execution_count": 19,
   "metadata": {},
   "outputs": [
    {
     "output_type": "execute_result",
     "data": {
      "text/plain": [
       "0    50.478988\n",
       "Name: NA_Sales, dtype: float64"
      ]
     },
     "metadata": {},
     "execution_count": 19
    }
   ],
   "source": [
    "top_selling_game=df.copy()\n",
    "top_Game=top_selling_game.head(1)\n",
    "x=top_Game[\"NA_Sales\"]\n",
    "y=top_selling_game[\"NA_Sales\"].mean()\n",
    "std_1=top_selling_game['NA_Sales'].std()\n",
    "z=(x-y)/std_1\n",
    "z"
   ]
  },
  {
   "source": [
    "## 7. The Nintendo Wii seems to have outdone itself with games. How does its average number of sales compare with all of the other platforms?"
   ],
   "cell_type": "markdown",
   "metadata": {}
  },
  {
   "cell_type": "code",
   "execution_count": 20,
   "metadata": {},
   "outputs": [
    {
     "output_type": "execute_result",
     "data": {
      "text/plain": [
       "(0.5233896418516336, 0.6994037735849057)"
      ]
     },
     "metadata": {},
     "execution_count": 20
    }
   ],
   "source": [
    "df_copy=df.copy()\n",
    "pub_1=df_copy[(df_copy[\"Platform\"]=='Wii')]\n",
    "pub_2=df_copy[(df_copy[\"Platform\"]!='Wii')]\n",
    "result=(pub_2[\"Global_Sales\"].mean(),pub_1[\"Global_Sales\"].mean())\n",
    "result"
   ]
  },
  {
   "source": [
    "## Test:"
   ],
   "cell_type": "markdown",
   "metadata": {}
  },
  {
   "cell_type": "code",
   "execution_count": 22,
   "metadata": {},
   "outputs": [
    {
     "output_type": "stream",
     "name": "stdout",
     "text": [
      "Success!!!\n"
     ]
    }
   ],
   "source": [
    "def test():\n",
    "\n",
    "    def assert_equal(actual,expected):\n",
    "        assert actual == expected, f\"Expected {expected} but got {actual}\"\n",
    "\n",
    "    assert_equal(most_common_video_game_publisher, 'Electronic Arts')\n",
    "    assert_equal(most_common_platform, 'DS')\n",
    "    assert_equal(most_common_genre, 'Action')\n",
    "    assert_equal(highest_grossing_games.iloc[0].Name, 'Wii Sports')\n",
    "    assert_equal(highest_grossing_games.iloc[19].Name, 'Brain Age: Train Your Brain in Minutes a Day')\n",
    "    assert_equal(median_sales.iloc[0].Name, 'Dragon Warrior IV')\n",
    "    assert_equal(result, (0.5233896418516336, 0.6994037735849057))\n",
    "\n",
    "    print(\"Success!!!\")\n",
    "\n",
    "test()\n",
    "\n"
   ]
  },
  {
   "source": [
    "## 3 more questions:\n",
    "1. The average of Global Sales\n"
   ],
   "cell_type": "markdown",
   "metadata": {}
  },
  {
   "source": [
    "Avg=df[\"NA_Sales\"].mean()\n",
    "Avg"
   ],
   "cell_type": "code",
   "metadata": {},
   "execution_count": 25,
   "outputs": [
    {
     "output_type": "execute_result",
     "data": {
      "text/plain": [
       "0.26466742981082064"
      ]
     },
     "metadata": {},
     "execution_count": 25
    }
   ]
  },
  {
   "source": [
    "2. Top 5 Rank in 1997"
   ],
   "cell_type": "markdown",
   "metadata": {}
  },
  {
   "cell_type": "code",
   "execution_count": 27,
   "metadata": {},
   "outputs": [
    {
     "output_type": "execute_result",
     "data": {
      "text/plain": [
       "52                               Gran Turismo\n",
       "66                          Final Fantasy VII\n",
       "84                              GoldenEye 007\n",
       "95     Crash Bandicoot 2: Cortex Strikes Back\n",
       "178                            Tomb Raider II\n",
       "Name: Name, dtype: object"
      ]
     },
     "metadata": {},
     "execution_count": 27
    }
   ],
   "source": [
    "top5 = df[df[\"Year\"]==1997].sort_values(\"Rank\").head(5)\n",
    "top5.Name"
   ]
  },
  {
   "source": [
    "3. Highest Ranked Racing game in all years"
   ],
   "cell_type": "markdown",
   "metadata": {}
  },
  {
   "cell_type": "code",
   "execution_count": 28,
   "metadata": {},
   "outputs": [
    {
     "output_type": "execute_result",
     "data": {
      "text/plain": [
       "2    Mario Kart Wii\n",
       "Name: Name, dtype: object"
      ]
     },
     "metadata": {},
     "execution_count": 28
    }
   ],
   "source": [
    "most_common_Genre = df[df[\"Genre\"]=='Racing'].sort_values(\"Rank\").head(1)\n",
    "most_common_Genre.Name"
   ]
  }
 ]
}